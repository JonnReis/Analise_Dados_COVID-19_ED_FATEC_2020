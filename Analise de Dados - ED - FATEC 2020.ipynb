{
 "cells": [
  {
   "cell_type": "markdown",
   "metadata": {},
   "source": [
    "# Análise sobre casos de COVID-19 no Brasil"
   ]
  },
  {
   "cell_type": "markdown",
   "metadata": {},
   "source": [
    "### Disclaimer/Aviso Legal: Este notebook tem um fim única e exclusivamente didático, para alunos da FATEC, como uma introdução à Análise de Dados Públicos. Desse modo, está excluída a garantia ou responsabilidade de qualquer tipo, por exemplo, de precisão, confiabilidade, completude e atualidade das informações."
   ]
  },
  {
   "cell_type": "markdown",
   "metadata": {},
   "source": [
    "## *1. Importando bibliotecas*"
   ]
  },
  {
   "cell_type": "code",
   "execution_count": 4,
   "metadata": {},
   "outputs": [],
   "source": [
    "import pandas as pd\n",
    "low_memory=False\n",
    "import matplotlib.pyplot as plt\n",
    "%matplotlib inline\n",
    "pd.options.display.max_columns = 80\n",
    "pd.options.display.max_rows = 90"
   ]
  },
  {
   "cell_type": "markdown",
   "metadata": {},
   "source": [
    "## *2. Declarando caminho do arquivo .csv utilizado*"
   ]
  },
  {
   "cell_type": "code",
   "execution_count": 37,
   "metadata": {},
   "outputs": [
    {
     "name": "stderr",
     "output_type": "stream",
     "text": [
      "c:\\users\\black\\appdata\\local\\programs\\python\\python37-32\\lib\\site-packages\\IPython\\core\\interactiveshell.py:3063: DtypeWarning: Columns (18,59,61,62,63,103,105,117,119,126,128,129,130,132) have mixed types.Specify dtype option on import or set low_memory=False.\n",
      "  interactivity=interactivity, compiler=compiler, result=result)\n"
     ]
    }
   ],
   "source": [
    "filename = r'E:\\Fatec\\ADS\\SEMESTRE 3\\ESTRUTURAS DE DADOS\\Analise de Dados\\dados_saude.csv'\n",
    "df = pd.read_csv(filename, delimiter=';',\n",
    "                 encoding = 'ISO-8859-1',\n",
    "                 error_bad_lines = False)"
   ]
  },
  {
   "cell_type": "code",
   "execution_count": 38,
   "metadata": {},
   "outputs": [
    {
     "data": {
      "text/plain": [
       "(393979, 134)"
      ]
     },
     "execution_count": 38,
     "metadata": {},
     "output_type": "execute_result"
    }
   ],
   "source": [
    "df.shape"
   ]
  },
  {
   "cell_type": "markdown",
   "metadata": {},
   "source": [
    "## *Colunas na tabela a ser utilizada*"
   ]
  },
  {
   "cell_type": "code",
   "execution_count": 39,
   "metadata": {},
   "outputs": [
    {
     "name": "stdout",
     "output_type": "stream",
     "text": [
      "0 DT_NOTIFIC\n",
      "3 SEM_PRI\n",
      "7 ID_MUNICIP\n",
      "11 CS_SEXO\n",
      "13 NU_IDADE_N\n",
      "22 SG_UF\n",
      "118 CLASSI_FIN\n",
      "121 EVOLUCAO\n"
     ]
    }
   ],
   "source": [
    "for k in (0,3,7,11, 13, 22, 118, 121):\n",
    "    print (k, df.columns[k])"
   ]
  },
  {
   "cell_type": "markdown",
   "metadata": {},
   "source": [
    "## *Criação da tabela a ser utilizada*"
   ]
  },
  {
   "cell_type": "code",
   "execution_count": 40,
   "metadata": {},
   "outputs": [],
   "source": [
    "df = df[['DT_NOTIFIC','SEM_PRI','ID_MUNICIP', 'CS_SEXO', 'NU_IDADE_N', 'SG_UF', 'CLASSI_FIN', 'EVOLUCAO']]"
   ]
  },
  {
   "cell_type": "markdown",
   "metadata": {},
   "source": [
    "## *Atribuição de valores na coluna de tipo de doença e na coluna evolução*"
   ]
  },
  {
   "cell_type": "code",
   "execution_count": 41,
   "metadata": {},
   "outputs": [],
   "source": [
    "troca_classificação = {1:'SRAG por influenza',\n",
    "                       2: 'SRAG por outro vírus respiratório',\n",
    "                       3: 'SRAG por outro agente Etiológico',\n",
    "                       4: 'SRAG não especificado',\n",
    "                       5: 'COVID-19'}\n",
    "\n",
    "troca_evolução = {1:'Cura', 2:'Óbito', 9:'Ignorado'}"
   ]
  },
  {
   "cell_type": "markdown",
   "metadata": {},
   "source": [
    "## *Alocação de valores dos dicionários dentro das colunas*"
   ]
  },
  {
   "cell_type": "code",
   "execution_count": 42,
   "metadata": {},
   "outputs": [],
   "source": [
    "df.loc[(df.CLASSI_FIN.isnull()), 'CLASSI_FIN'] = 4\n",
    "df['CLASSI_FIN'] = df['CLASSI_FIN'].apply(lambda x: troca_classificação[x])\n",
    "\n",
    "df.loc[(df.EVOLUCAO.isnull()), 'EVOLUCAO'] = 9\n",
    "df['EVOLUCAO'] = df['EVOLUCAO'].apply(lambda x: troca_evolução[x])"
   ]
  },
  {
   "cell_type": "markdown",
   "metadata": {},
   "source": [
    "## *Amostra da tabela (20 ocorrências)*"
   ]
  },
  {
   "cell_type": "code",
   "execution_count": 43,
   "metadata": {},
   "outputs": [
    {
     "data": {
      "text/html": [
       "<div>\n",
       "<style scoped>\n",
       "    .dataframe tbody tr th:only-of-type {\n",
       "        vertical-align: middle;\n",
       "    }\n",
       "\n",
       "    .dataframe tbody tr th {\n",
       "        vertical-align: top;\n",
       "    }\n",
       "\n",
       "    .dataframe thead th {\n",
       "        text-align: right;\n",
       "    }\n",
       "</style>\n",
       "<table border=\"1\" class=\"dataframe\">\n",
       "  <thead>\n",
       "    <tr style=\"text-align: right;\">\n",
       "      <th></th>\n",
       "      <th>DT_NOTIFIC</th>\n",
       "      <th>SEM_PRI</th>\n",
       "      <th>ID_MUNICIP</th>\n",
       "      <th>CS_SEXO</th>\n",
       "      <th>NU_IDADE_N</th>\n",
       "      <th>SG_UF</th>\n",
       "      <th>CLASSI_FIN</th>\n",
       "      <th>EVOLUCAO</th>\n",
       "    </tr>\n",
       "  </thead>\n",
       "  <tbody>\n",
       "    <tr>\n",
       "      <th>96839</th>\n",
       "      <td>02/05/2020</td>\n",
       "      <td>18</td>\n",
       "      <td>BAURU</td>\n",
       "      <td>F</td>\n",
       "      <td>18</td>\n",
       "      <td>SP</td>\n",
       "      <td>SRAG não especificado</td>\n",
       "      <td>Cura</td>\n",
       "    </tr>\n",
       "    <tr>\n",
       "      <th>309916</th>\n",
       "      <td>19/06/2020</td>\n",
       "      <td>25</td>\n",
       "      <td>CAMPINAS</td>\n",
       "      <td>F</td>\n",
       "      <td>48</td>\n",
       "      <td>SP</td>\n",
       "      <td>COVID-19</td>\n",
       "      <td>Cura</td>\n",
       "    </tr>\n",
       "    <tr>\n",
       "      <th>232605</th>\n",
       "      <td>23/05/2020</td>\n",
       "      <td>21</td>\n",
       "      <td>CUIABA</td>\n",
       "      <td>F</td>\n",
       "      <td>26</td>\n",
       "      <td>MT</td>\n",
       "      <td>COVID-19</td>\n",
       "      <td>Cura</td>\n",
       "    </tr>\n",
       "    <tr>\n",
       "      <th>216462</th>\n",
       "      <td>01/06/2020</td>\n",
       "      <td>22</td>\n",
       "      <td>FLORIANOPOLIS</td>\n",
       "      <td>F</td>\n",
       "      <td>75</td>\n",
       "      <td>SC</td>\n",
       "      <td>COVID-19</td>\n",
       "      <td>Óbito</td>\n",
       "    </tr>\n",
       "    <tr>\n",
       "      <th>129770</th>\n",
       "      <td>13/05/2020</td>\n",
       "      <td>18</td>\n",
       "      <td>FORTALEZA</td>\n",
       "      <td>F</td>\n",
       "      <td>86</td>\n",
       "      <td>CE</td>\n",
       "      <td>COVID-19</td>\n",
       "      <td>Óbito</td>\n",
       "    </tr>\n",
       "    <tr>\n",
       "      <th>391277</th>\n",
       "      <td>06/07/2020</td>\n",
       "      <td>20</td>\n",
       "      <td>FORTALEZA</td>\n",
       "      <td>M</td>\n",
       "      <td>75</td>\n",
       "      <td>CE</td>\n",
       "      <td>COVID-19</td>\n",
       "      <td>Cura</td>\n",
       "    </tr>\n",
       "    <tr>\n",
       "      <th>290585</th>\n",
       "      <td>14/06/2020</td>\n",
       "      <td>24</td>\n",
       "      <td>FORTALEZA</td>\n",
       "      <td>M</td>\n",
       "      <td>1</td>\n",
       "      <td>CE</td>\n",
       "      <td>COVID-19</td>\n",
       "      <td>Ignorado</td>\n",
       "    </tr>\n",
       "    <tr>\n",
       "      <th>347967</th>\n",
       "      <td>22/05/2020</td>\n",
       "      <td>21</td>\n",
       "      <td>JABOATAO DOS GUARARAPES</td>\n",
       "      <td>F</td>\n",
       "      <td>35</td>\n",
       "      <td>PE</td>\n",
       "      <td>SRAG não especificado</td>\n",
       "      <td>Ignorado</td>\n",
       "    </tr>\n",
       "    <tr>\n",
       "      <th>75103</th>\n",
       "      <td>23/04/2020</td>\n",
       "      <td>14</td>\n",
       "      <td>MANAUS</td>\n",
       "      <td>M</td>\n",
       "      <td>58</td>\n",
       "      <td>AM</td>\n",
       "      <td>SRAG não especificado</td>\n",
       "      <td>Óbito</td>\n",
       "    </tr>\n",
       "    <tr>\n",
       "      <th>228642</th>\n",
       "      <td>29/05/2020</td>\n",
       "      <td>21</td>\n",
       "      <td>MOSSORO</td>\n",
       "      <td>M</td>\n",
       "      <td>57</td>\n",
       "      <td>RN</td>\n",
       "      <td>SRAG não especificado</td>\n",
       "      <td>Ignorado</td>\n",
       "    </tr>\n",
       "    <tr>\n",
       "      <th>148263</th>\n",
       "      <td>18/05/2020</td>\n",
       "      <td>20</td>\n",
       "      <td>PALMITINHO</td>\n",
       "      <td>M</td>\n",
       "      <td>62</td>\n",
       "      <td>RS</td>\n",
       "      <td>SRAG não especificado</td>\n",
       "      <td>Cura</td>\n",
       "    </tr>\n",
       "    <tr>\n",
       "      <th>48514</th>\n",
       "      <td>15/04/2020</td>\n",
       "      <td>15</td>\n",
       "      <td>RECIFE</td>\n",
       "      <td>M</td>\n",
       "      <td>36</td>\n",
       "      <td>PE</td>\n",
       "      <td>COVID-19</td>\n",
       "      <td>Cura</td>\n",
       "    </tr>\n",
       "    <tr>\n",
       "      <th>277797</th>\n",
       "      <td>22/05/2020</td>\n",
       "      <td>20</td>\n",
       "      <td>SALVADOR</td>\n",
       "      <td>F</td>\n",
       "      <td>62</td>\n",
       "      <td>BA</td>\n",
       "      <td>COVID-19</td>\n",
       "      <td>Óbito</td>\n",
       "    </tr>\n",
       "    <tr>\n",
       "      <th>202680</th>\n",
       "      <td>30/05/2020</td>\n",
       "      <td>22</td>\n",
       "      <td>SAO PAULO</td>\n",
       "      <td>F</td>\n",
       "      <td>83</td>\n",
       "      <td>SP</td>\n",
       "      <td>SRAG não especificado</td>\n",
       "      <td>Ignorado</td>\n",
       "    </tr>\n",
       "    <tr>\n",
       "      <th>338609</th>\n",
       "      <td>26/06/2020</td>\n",
       "      <td>25</td>\n",
       "      <td>SAO PAULO</td>\n",
       "      <td>F</td>\n",
       "      <td>82</td>\n",
       "      <td>SP</td>\n",
       "      <td>COVID-19</td>\n",
       "      <td>Ignorado</td>\n",
       "    </tr>\n",
       "    <tr>\n",
       "      <th>272758</th>\n",
       "      <td>12/06/2020</td>\n",
       "      <td>23</td>\n",
       "      <td>SAO PAULO</td>\n",
       "      <td>M</td>\n",
       "      <td>65</td>\n",
       "      <td>SP</td>\n",
       "      <td>SRAG não especificado</td>\n",
       "      <td>Óbito</td>\n",
       "    </tr>\n",
       "    <tr>\n",
       "      <th>234175</th>\n",
       "      <td>06/06/2020</td>\n",
       "      <td>22</td>\n",
       "      <td>SAO PAULO</td>\n",
       "      <td>M</td>\n",
       "      <td>50</td>\n",
       "      <td>SP</td>\n",
       "      <td>COVID-19</td>\n",
       "      <td>Cura</td>\n",
       "    </tr>\n",
       "    <tr>\n",
       "      <th>384098</th>\n",
       "      <td>06/07/2020</td>\n",
       "      <td>27</td>\n",
       "      <td>SAO PAULO</td>\n",
       "      <td>M</td>\n",
       "      <td>8</td>\n",
       "      <td>SP</td>\n",
       "      <td>SRAG não especificado</td>\n",
       "      <td>Ignorado</td>\n",
       "    </tr>\n",
       "    <tr>\n",
       "      <th>169413</th>\n",
       "      <td>13/05/2020</td>\n",
       "      <td>20</td>\n",
       "      <td>SORRISO</td>\n",
       "      <td>F</td>\n",
       "      <td>37</td>\n",
       "      <td>MT</td>\n",
       "      <td>COVID-19</td>\n",
       "      <td>Cura</td>\n",
       "    </tr>\n",
       "    <tr>\n",
       "      <th>278770</th>\n",
       "      <td>15/06/2020</td>\n",
       "      <td>24</td>\n",
       "      <td>TORRES</td>\n",
       "      <td>F</td>\n",
       "      <td>90</td>\n",
       "      <td>RS</td>\n",
       "      <td>COVID-19</td>\n",
       "      <td>Óbito</td>\n",
       "    </tr>\n",
       "  </tbody>\n",
       "</table>\n",
       "</div>"
      ],
      "text/plain": [
       "        DT_NOTIFIC  SEM_PRI               ID_MUNICIP CS_SEXO  NU_IDADE_N  \\\n",
       "96839   02/05/2020       18                    BAURU       F          18   \n",
       "309916  19/06/2020       25                 CAMPINAS       F          48   \n",
       "232605  23/05/2020       21                   CUIABA       F          26   \n",
       "216462  01/06/2020       22            FLORIANOPOLIS       F          75   \n",
       "129770  13/05/2020       18                FORTALEZA       F          86   \n",
       "391277  06/07/2020       20                FORTALEZA       M          75   \n",
       "290585  14/06/2020       24                FORTALEZA       M           1   \n",
       "347967  22/05/2020       21  JABOATAO DOS GUARARAPES       F          35   \n",
       "75103   23/04/2020       14                   MANAUS       M          58   \n",
       "228642  29/05/2020       21                  MOSSORO       M          57   \n",
       "148263  18/05/2020       20               PALMITINHO       M          62   \n",
       "48514   15/04/2020       15                   RECIFE       M          36   \n",
       "277797  22/05/2020       20                 SALVADOR       F          62   \n",
       "202680  30/05/2020       22                SAO PAULO       F          83   \n",
       "338609  26/06/2020       25                SAO PAULO       F          82   \n",
       "272758  12/06/2020       23                SAO PAULO       M          65   \n",
       "234175  06/06/2020       22                SAO PAULO       M          50   \n",
       "384098  06/07/2020       27                SAO PAULO       M           8   \n",
       "169413  13/05/2020       20                  SORRISO       F          37   \n",
       "278770  15/06/2020       24                   TORRES       F          90   \n",
       "\n",
       "       SG_UF             CLASSI_FIN  EVOLUCAO  \n",
       "96839     SP  SRAG não especificado      Cura  \n",
       "309916    SP               COVID-19      Cura  \n",
       "232605    MT               COVID-19      Cura  \n",
       "216462    SC               COVID-19     Óbito  \n",
       "129770    CE               COVID-19     Óbito  \n",
       "391277    CE               COVID-19      Cura  \n",
       "290585    CE               COVID-19  Ignorado  \n",
       "347967    PE  SRAG não especificado  Ignorado  \n",
       "75103     AM  SRAG não especificado     Óbito  \n",
       "228642    RN  SRAG não especificado  Ignorado  \n",
       "148263    RS  SRAG não especificado      Cura  \n",
       "48514     PE               COVID-19      Cura  \n",
       "277797    BA               COVID-19     Óbito  \n",
       "202680    SP  SRAG não especificado  Ignorado  \n",
       "338609    SP               COVID-19  Ignorado  \n",
       "272758    SP  SRAG não especificado     Óbito  \n",
       "234175    SP               COVID-19      Cura  \n",
       "384098    SP  SRAG não especificado  Ignorado  \n",
       "169413    MT               COVID-19      Cura  \n",
       "278770    RS               COVID-19     Óbito  "
      ]
     },
     "execution_count": 43,
     "metadata": {},
     "output_type": "execute_result"
    }
   ],
   "source": [
    "df.sample(20).sort_values('ID_MUNICIP')"
   ]
  },
  {
   "cell_type": "markdown",
   "metadata": {},
   "source": [
    "## *Quantidade de ocorrências de COVID-19 por municípios*"
   ]
  },
  {
   "cell_type": "code",
   "execution_count": 21,
   "metadata": {},
   "outputs": [
    {
     "data": {
      "text/plain": [
       "ID_MUNICIP\n",
       "SAO PAULO          35884\n",
       "RIO DE JANEIRO     16647\n",
       "FORTALEZA           8663\n",
       "RECIFE              7447\n",
       "MANAUS              4730\n",
       "                   ...  \n",
       "MUCUM                  1\n",
       "SIMAO DIAS             1\n",
       "CHOPINZINHO            1\n",
       "MORRO DA FUMACA        1\n",
       "LAGOA GRANDE           1\n",
       "Length: 1792, dtype: int64"
      ]
     },
     "execution_count": 21,
     "metadata": {},
     "output_type": "execute_result"
    }
   ],
   "source": [
    "df.query('CLASSI_FIN == \"COVID-19\"').groupby('ID_MUNICIP').size().sort_values(ascending=False)"
   ]
  },
  {
   "cell_type": "markdown",
   "metadata": {},
   "source": [
    "## *Gráfico das 10 cidades com maior ocorrência de COVID-19*"
   ]
  },
  {
   "cell_type": "code",
   "execution_count": 22,
   "metadata": {},
   "outputs": [
    {
     "data": {
      "text/plain": [
       "Text(0.5, 1.0, 'Dez cidades com mais casos de COVID-19')"
      ]
     },
     "execution_count": 22,
     "metadata": {},
     "output_type": "execute_result"
    },
    {
     "data": {
      "image/png": "[encoded data removed]",
      "text/plain": [
       "<Figure size 432x288 with 1 Axes>"
      ]
     },
     "metadata": {
      "needs_background": "light"
     },
     "output_type": "display_data"
    }
   ],
   "source": [
    "df.query('CLASSI_FIN == \"COVID-19\"').groupby('ID_MUNICIP').size().sort_values().tail(10).plot(kind='bar', color='red').set_title('Dez cidades com mais casos de COVID-19', fontsize=22)"
   ]
  },
  {
   "cell_type": "markdown",
   "metadata": {},
   "source": [
    "## *Lista com o total de casos de COVID-19 por estado*"
   ]
  },
  {
   "cell_type": "code",
   "execution_count": 49,
   "metadata": {},
   "outputs": [
    {
     "data": {
      "text/plain": [
       "SG_UF\n",
       "SP    65122\n",
       "RJ    24965\n",
       "CE    12464\n",
       "PA    10316\n",
       "PE    10093\n",
       "AM     7394\n",
       "MT     7188\n",
       "BA     5778\n",
       "MG     5475\n",
       "RS     4324\n",
       "PR     3566\n",
       "DF     3136\n",
       "MA     2829\n",
       "PI     2522\n",
       "PB     2448\n",
       "AL     2197\n",
       "GO     2164\n",
       "RN     2113\n",
       "ES     1998\n",
       "SC     1866\n",
       "SE     1371\n",
       "MS      858\n",
       "RO      760\n",
       "TO      669\n",
       "RR      358\n",
       "AC      357\n",
       "AP      349\n",
       "dtype: int64"
      ]
     },
     "execution_count": 49,
     "metadata": {},
     "output_type": "execute_result"
    }
   ],
   "source": [
    "df.query('CLASSI_FIN == \"COVID-19\"').groupby('SG_UF').size().sort_values(ascending=False)"
   ]
  },
  {
   "cell_type": "markdown",
   "metadata": {},
   "source": [
    "## *Grafico dos 10 estados com maior casos de COVID-19*"
   ]
  },
  {
   "cell_type": "code",
   "execution_count": 24,
   "metadata": {},
   "outputs": [
    {
     "data": {
      "text/plain": [
       "Text(0.5, 1.0, 'Dez estados com mais casos de COVID-19')"
      ]
     },
     "execution_count": 24,
     "metadata": {},
     "output_type": "execute_result"
    },
    {
     "data": {
      "image/png": "[encoded data removed]",
      "text/plain": [
       "<Figure size 432x288 with 1 Axes>"
      ]
     },
     "metadata": {
      "needs_background": "light"
     },
     "output_type": "display_data"
    }
   ],
   "source": [
    "df.query('CLASSI_FIN == \"COVID-19\"').groupby('SG_UF').size().sort_values().tail(10).plot(kind='bar').set_title('Dez estados com mais casos de COVID-19', fontsize=22)"
   ]
  },
  {
   "cell_type": "markdown",
   "metadata": {},
   "source": [
    "## *Gráfico com a Quantidade de óbitos de COVID-19 por Estados*"
   ]
  },
  {
   "cell_type": "code",
   "execution_count": 26,
   "metadata": {},
   "outputs": [
    {
     "data": {
      "text/plain": [
       "Text(0.5, 1.0, 'Óbito de COVID-19 por Estado')"
      ]
     },
     "execution_count": 26,
     "metadata": {},
     "output_type": "execute_result"
    },
    {
     "data": {
      "image/png": "[encoded data removed]",
      "text/plain": [
       "<Figure size 432x288 with 1 Axes>"
      ]
     },
     "metadata": {
      "needs_background": "light"
     },
     "output_type": "display_data"
    }
   ],
   "source": [
    "df.query('EVOLUCAO == \"Óbito\" and CLASSI_FIN == \"COVID-19\"').groupby('SG_UF').size().plot(kind='bar').set_title('Óbito de COVID-19 por Estado', fontsize = 22)"
   ]
  },
  {
   "cell_type": "markdown",
   "metadata": {},
   "source": [
    "## *Quantidade de casos de COVID-19*"
   ]
  },
  {
   "cell_type": "code",
   "execution_count": 36,
   "metadata": {},
   "outputs": [
    {
     "data": {
      "text/plain": [
       "EVOLUCAO\n",
       "Cura        77747\n",
       "Óbito       61830\n",
       "Ignorado    43125\n",
       "dtype: int64"
      ]
     },
     "execution_count": 36,
     "metadata": {},
     "output_type": "execute_result"
    }
   ],
   "source": [
    "df.query('CLASSI_FIN == \"COVID-19\"').groupby('EVOLUCAO').size().sort_values(ascending=False)"
   ]
  },
  {
   "cell_type": "markdown",
   "metadata": {},
   "source": [
    "## *Evolução de casos de COVID-19*"
   ]
  },
  {
   "cell_type": "code",
   "execution_count": 47,
   "metadata": {},
   "outputs": [
    {
     "data": {
      "text/plain": [
       "Text(0.5, 1.0, 'Evolução')"
      ]
     },
     "execution_count": 47,
     "metadata": {},
     "output_type": "execute_result"
    },
    {
     "data": {
      "image/png": "[encoded data removed]",
      "text/plain": [
       "<Figure size 432x288 with 1 Axes>"
      ]
     },
     "metadata": {
      "needs_background": "light"
     },
     "output_type": "display_data"
    }
   ],
   "source": [
    "df.query('CLASSI_FIN == \"COVID-19\"').groupby('EVOLUCAO').size().sort_values().tail(10).plot(kind='bar', color='red').set_title('Evolução', fontsize=22)"
   ]
  },
  {
   "cell_type": "code",
   "execution_count": 50,
   "metadata": {},
   "outputs": [
    {
     "data": {
      "text/plain": [
       "DT_NOTIFIC\n",
       "18/05/2020    3245\n",
       "15/06/2020    3164\n",
       "25/05/2020    3042\n",
       "11/05/2020    3040\n",
       "04/05/2020    2901\n",
       "              ... \n",
       "29/02/2020       1\n",
       "03/03/2020       1\n",
       "28/02/2020       1\n",
       "24/02/2020       1\n",
       "01/03/2020       1\n",
       "Length: 132, dtype: int64"
      ]
     },
     "execution_count": 50,
     "metadata": {},
     "output_type": "execute_result"
    }
   ],
   "source": [
    "df.query('CLASSI_FIN == \"COVID-19\"').groupby('DT_NOTIFIC').size().sort_values(ascending=False)"
   ]
  },
  {
   "cell_type": "code",
   "execution_count": null,
   "metadata": {},
   "outputs": [],
   "source": []
  }
 ],
 "metadata": {
  "kernelspec": {
   "display_name": "Python 3",
   "language": "python",
   "name": "python3"
  },
  "language_info": {
   "codemirror_mode": {
    "name": "ipython",
    "version": 3
   },
   "file_extension": ".py",
   "mimetype": "text/x-python",
   "name": "python",
   "nbconvert_exporter": "python",
   "pygments_lexer": "ipython3",
   "version": "3.7.3"
  }
 },
 "nbformat": 4,
 "nbformat_minor": 4
}
