{
 "cells": [
  {
   "cell_type": "code",
   "execution_count": 11,
   "metadata": {},
   "outputs": [],
   "source": [
    "import pandas as pd\n",
    "low_memory=False\n",
    "import matplotlib.pyplot as plt\n",
    "%matplotlib inline\n",
    "pd.options.display.max_columns = 80\n",
    "pd.options.display.max_rows = 90"
   ]
  },
  {
   "cell_type": "code",
   "execution_count": 9,
   "metadata": {},
   "outputs": [
    {
     "name": "stderr",
     "output_type": "stream",
     "text": [
      "c:\\users\\black\\appdata\\local\\programs\\python\\python37-32\\lib\\site-packages\\IPython\\core\\interactiveshell.py:3063: DtypeWarning: Columns (18,59,61,62,63,103,105,117,119,126,128,129,130,132) have mixed types.Specify dtype option on import or set low_memory=False.\n",
      "  interactivity=interactivity, compiler=compiler, result=result)\n"
     ]
    }
   ],
   "source": [
    "filename = r'E:\\Fatec\\ADS\\SEMESTRE 3\\ESTRUTURAS DE DADOS\\Analise de Dados\\dados_saude.csv'\n",
    "df = pd.read_csv(filename, delimiter=';',\n",
    "                 encoding = 'ISO-8859-1',\n",
    "                 error_bad_lines = False)"
   ]
  },
  {
   "cell_type": "code",
   "execution_count": 10,
   "metadata": {},
   "outputs": [
    {
     "data": {
      "text/plain": [
       "(393979, 134)"
      ]
     },
     "execution_count": 10,
     "metadata": {},
     "output_type": "execute_result"
    }
   ],
   "source": [
    "df.shape"
   ]
  },
  {
   "cell_type": "code",
   "execution_count": 12,
   "metadata": {},
   "outputs": [
    {
     "name": "stdout",
     "output_type": "stream",
     "text": [
      "11 CS_SEXO\n",
      "13 NU_IDADE_N\n",
      "17 CS_RACA\n",
      "19 CS_ESCOL_N\n",
      "22 SG_UF\n",
      "118 CLASSI_FIN\n",
      "121 EVOLUCAO\n"
     ]
    }
   ],
   "source": [
    "for k in (11, 13, 17, 19, 22, 118, 121):\n",
    "    print (k, df.columns[k])"
   ]
  },
  {
   "cell_type": "code",
   "execution_count": 13,
   "metadata": {},
   "outputs": [],
   "source": [
    "df = df[['CS_SEXO', 'NU_IDADE_N', 'CS_RACA', 'CS_ESCOL_N', 'SG_UF', 'CLASSI_FIN', 'EVOLUCAO']]"
   ]
  },
  {
   "cell_type": "code",
   "execution_count": 14,
   "metadata": {},
   "outputs": [],
   "source": [
    "troca_raça = {1:'Branca', 2:'Preta', 3:'Amarela',\n",
    "              4:'Parda', 5:'Indígena', 9:'Ignorado'}\n",
    "\n",
    "troca_escolaridade = {0:'Sem', 1:'Fund1', \n",
    "                      2:'Fund2', 3:'Médio',\n",
    "                      4:'Superior', \n",
    "                      5:'Não se aplica',\n",
    "                      9:'Ignorado'}\n",
    "\n",
    "troca_classificação = {1:'SRAG por influenza',\n",
    "                       2: 'SRAG por outro vírus respiratório',\n",
    "                       3: 'SRAG por outro agente Etiológico',\n",
    "                       4: 'SRAG não especificado',\n",
    "                       5: 'COVID-19'}\n",
    "\n",
    "troca_evolução = {1:'Cura', 2:'Óbito', 9:'Ignorado'}"
   ]
  },
  {
   "cell_type": "code",
   "execution_count": 15,
   "metadata": {},
   "outputs": [],
   "source": [
    "df.loc[(df.CS_RACA.isnull()), 'CS_RACA'] = 9\n",
    "df['CS_RACA'] = df['CS_RACA'].apply(lambda x: troca_raça[x])\n",
    "\n",
    "df.loc[(df.CS_ESCOL_N.isnull()), 'CS_ESCOL_N'] = 9\n",
    "df['CS_ESCOL_N'] = df['CS_ESCOL_N'].apply(lambda x: troca_escolaridade[x])\n",
    "\n",
    "df.loc[(df.CLASSI_FIN.isnull()), 'CLASSI_FIN'] = 4\n",
    "df['CLASSI_FIN'] = df['CLASSI_FIN'].apply(lambda x: troca_classificação[x])\n",
    "\n",
    "df.loc[(df.EVOLUCAO.isnull()), 'EVOLUCAO'] = 9\n",
    "df['EVOLUCAO'] = df['EVOLUCAO'].apply(lambda x: troca_evolução[x])"
   ]
  },
  {
   "cell_type": "code",
   "execution_count": 16,
   "metadata": {},
   "outputs": [
    {
     "data": {
      "text/html": [
       "<div>\n",
       "<style scoped>\n",
       "    .dataframe tbody tr th:only-of-type {\n",
       "        vertical-align: middle;\n",
       "    }\n",
       "\n",
       "    .dataframe tbody tr th {\n",
       "        vertical-align: top;\n",
       "    }\n",
       "\n",
       "    .dataframe thead th {\n",
       "        text-align: right;\n",
       "    }\n",
       "</style>\n",
       "<table border=\"1\" class=\"dataframe\">\n",
       "  <thead>\n",
       "    <tr style=\"text-align: right;\">\n",
       "      <th></th>\n",
       "      <th>CS_SEXO</th>\n",
       "      <th>NU_IDADE_N</th>\n",
       "      <th>CS_RACA</th>\n",
       "      <th>CS_ESCOL_N</th>\n",
       "      <th>SG_UF</th>\n",
       "      <th>CLASSI_FIN</th>\n",
       "      <th>EVOLUCAO</th>\n",
       "    </tr>\n",
       "  </thead>\n",
       "  <tbody>\n",
       "    <tr>\n",
       "      <th>340360</th>\n",
       "      <td>M</td>\n",
       "      <td>2</td>\n",
       "      <td>Parda</td>\n",
       "      <td>Não se aplica</td>\n",
       "      <td>SP</td>\n",
       "      <td>SRAG não especificado</td>\n",
       "      <td>Cura</td>\n",
       "    </tr>\n",
       "    <tr>\n",
       "      <th>9617</th>\n",
       "      <td>M</td>\n",
       "      <td>19</td>\n",
       "      <td>Parda</td>\n",
       "      <td>Fund2</td>\n",
       "      <td>PR</td>\n",
       "      <td>SRAG não especificado</td>\n",
       "      <td>Cura</td>\n",
       "    </tr>\n",
       "    <tr>\n",
       "      <th>126751</th>\n",
       "      <td>M</td>\n",
       "      <td>23</td>\n",
       "      <td>Branca</td>\n",
       "      <td>Ignorado</td>\n",
       "      <td>PR</td>\n",
       "      <td>SRAG não especificado</td>\n",
       "      <td>Cura</td>\n",
       "    </tr>\n",
       "    <tr>\n",
       "      <th>180642</th>\n",
       "      <td>F</td>\n",
       "      <td>33</td>\n",
       "      <td>Ignorado</td>\n",
       "      <td>Ignorado</td>\n",
       "      <td>RJ</td>\n",
       "      <td>SRAG não especificado</td>\n",
       "      <td>Ignorado</td>\n",
       "    </tr>\n",
       "    <tr>\n",
       "      <th>307770</th>\n",
       "      <td>F</td>\n",
       "      <td>34</td>\n",
       "      <td>Parda</td>\n",
       "      <td>Fund1</td>\n",
       "      <td>AC</td>\n",
       "      <td>COVID-19</td>\n",
       "      <td>Ignorado</td>\n",
       "    </tr>\n",
       "    <tr>\n",
       "      <th>146825</th>\n",
       "      <td>F</td>\n",
       "      <td>38</td>\n",
       "      <td>Ignorado</td>\n",
       "      <td>Ignorado</td>\n",
       "      <td>SP</td>\n",
       "      <td>COVID-19</td>\n",
       "      <td>Cura</td>\n",
       "    </tr>\n",
       "    <tr>\n",
       "      <th>22213</th>\n",
       "      <td>M</td>\n",
       "      <td>38</td>\n",
       "      <td>Parda</td>\n",
       "      <td>Ignorado</td>\n",
       "      <td>SP</td>\n",
       "      <td>COVID-19</td>\n",
       "      <td>Cura</td>\n",
       "    </tr>\n",
       "    <tr>\n",
       "      <th>190096</th>\n",
       "      <td>M</td>\n",
       "      <td>38</td>\n",
       "      <td>Ignorado</td>\n",
       "      <td>Ignorado</td>\n",
       "      <td>BA</td>\n",
       "      <td>SRAG não especificado</td>\n",
       "      <td>Ignorado</td>\n",
       "    </tr>\n",
       "    <tr>\n",
       "      <th>184537</th>\n",
       "      <td>F</td>\n",
       "      <td>40</td>\n",
       "      <td>Ignorado</td>\n",
       "      <td>Ignorado</td>\n",
       "      <td>MG</td>\n",
       "      <td>SRAG não especificado</td>\n",
       "      <td>Ignorado</td>\n",
       "    </tr>\n",
       "    <tr>\n",
       "      <th>333641</th>\n",
       "      <td>M</td>\n",
       "      <td>42</td>\n",
       "      <td>Ignorado</td>\n",
       "      <td>Médio</td>\n",
       "      <td>SC</td>\n",
       "      <td>COVID-19</td>\n",
       "      <td>Cura</td>\n",
       "    </tr>\n",
       "    <tr>\n",
       "      <th>219667</th>\n",
       "      <td>F</td>\n",
       "      <td>45</td>\n",
       "      <td>Ignorado</td>\n",
       "      <td>Ignorado</td>\n",
       "      <td>GO</td>\n",
       "      <td>SRAG não especificado</td>\n",
       "      <td>Cura</td>\n",
       "    </tr>\n",
       "    <tr>\n",
       "      <th>148334</th>\n",
       "      <td>F</td>\n",
       "      <td>46</td>\n",
       "      <td>Branca</td>\n",
       "      <td>Fund2</td>\n",
       "      <td>SP</td>\n",
       "      <td>SRAG não especificado</td>\n",
       "      <td>Ignorado</td>\n",
       "    </tr>\n",
       "    <tr>\n",
       "      <th>82026</th>\n",
       "      <td>M</td>\n",
       "      <td>47</td>\n",
       "      <td>Ignorado</td>\n",
       "      <td>Ignorado</td>\n",
       "      <td>AM</td>\n",
       "      <td>SRAG não especificado</td>\n",
       "      <td>Ignorado</td>\n",
       "    </tr>\n",
       "    <tr>\n",
       "      <th>25086</th>\n",
       "      <td>F</td>\n",
       "      <td>48</td>\n",
       "      <td>Ignorado</td>\n",
       "      <td>Ignorado</td>\n",
       "      <td>DF</td>\n",
       "      <td>SRAG não especificado</td>\n",
       "      <td>Cura</td>\n",
       "    </tr>\n",
       "    <tr>\n",
       "      <th>53379</th>\n",
       "      <td>M</td>\n",
       "      <td>51</td>\n",
       "      <td>Ignorado</td>\n",
       "      <td>Fund1</td>\n",
       "      <td>SP</td>\n",
       "      <td>COVID-19</td>\n",
       "      <td>Ignorado</td>\n",
       "    </tr>\n",
       "    <tr>\n",
       "      <th>203869</th>\n",
       "      <td>F</td>\n",
       "      <td>51</td>\n",
       "      <td>Parda</td>\n",
       "      <td>Médio</td>\n",
       "      <td>RJ</td>\n",
       "      <td>SRAG não especificado</td>\n",
       "      <td>Óbito</td>\n",
       "    </tr>\n",
       "    <tr>\n",
       "      <th>190875</th>\n",
       "      <td>M</td>\n",
       "      <td>51</td>\n",
       "      <td>Ignorado</td>\n",
       "      <td>Ignorado</td>\n",
       "      <td>RJ</td>\n",
       "      <td>COVID-19</td>\n",
       "      <td>Ignorado</td>\n",
       "    </tr>\n",
       "    <tr>\n",
       "      <th>240845</th>\n",
       "      <td>F</td>\n",
       "      <td>52</td>\n",
       "      <td>Parda</td>\n",
       "      <td>Médio</td>\n",
       "      <td>PR</td>\n",
       "      <td>COVID-19</td>\n",
       "      <td>Cura</td>\n",
       "    </tr>\n",
       "    <tr>\n",
       "      <th>95974</th>\n",
       "      <td>M</td>\n",
       "      <td>52</td>\n",
       "      <td>Parda</td>\n",
       "      <td>Ignorado</td>\n",
       "      <td>MG</td>\n",
       "      <td>SRAG não especificado</td>\n",
       "      <td>Cura</td>\n",
       "    </tr>\n",
       "    <tr>\n",
       "      <th>175175</th>\n",
       "      <td>M</td>\n",
       "      <td>53</td>\n",
       "      <td>Branca</td>\n",
       "      <td>Superior</td>\n",
       "      <td>ES</td>\n",
       "      <td>COVID-19</td>\n",
       "      <td>Cura</td>\n",
       "    </tr>\n",
       "    <tr>\n",
       "      <th>249074</th>\n",
       "      <td>F</td>\n",
       "      <td>53</td>\n",
       "      <td>Ignorado</td>\n",
       "      <td>Ignorado</td>\n",
       "      <td>SP</td>\n",
       "      <td>COVID-19</td>\n",
       "      <td>Ignorado</td>\n",
       "    </tr>\n",
       "    <tr>\n",
       "      <th>249695</th>\n",
       "      <td>M</td>\n",
       "      <td>54</td>\n",
       "      <td>Ignorado</td>\n",
       "      <td>Ignorado</td>\n",
       "      <td>CE</td>\n",
       "      <td>COVID-19</td>\n",
       "      <td>Óbito</td>\n",
       "    </tr>\n",
       "    <tr>\n",
       "      <th>337054</th>\n",
       "      <td>M</td>\n",
       "      <td>54</td>\n",
       "      <td>Parda</td>\n",
       "      <td>Médio</td>\n",
       "      <td>PA</td>\n",
       "      <td>SRAG não especificado</td>\n",
       "      <td>Ignorado</td>\n",
       "    </tr>\n",
       "    <tr>\n",
       "      <th>145807</th>\n",
       "      <td>F</td>\n",
       "      <td>56</td>\n",
       "      <td>Parda</td>\n",
       "      <td>Ignorado</td>\n",
       "      <td>MG</td>\n",
       "      <td>SRAG não especificado</td>\n",
       "      <td>Cura</td>\n",
       "    </tr>\n",
       "    <tr>\n",
       "      <th>138629</th>\n",
       "      <td>M</td>\n",
       "      <td>56</td>\n",
       "      <td>Branca</td>\n",
       "      <td>Fund2</td>\n",
       "      <td>SP</td>\n",
       "      <td>SRAG não especificado</td>\n",
       "      <td>Cura</td>\n",
       "    </tr>\n",
       "    <tr>\n",
       "      <th>251054</th>\n",
       "      <td>M</td>\n",
       "      <td>57</td>\n",
       "      <td>Ignorado</td>\n",
       "      <td>Ignorado</td>\n",
       "      <td>SE</td>\n",
       "      <td>COVID-19</td>\n",
       "      <td>Ignorado</td>\n",
       "    </tr>\n",
       "    <tr>\n",
       "      <th>234468</th>\n",
       "      <td>F</td>\n",
       "      <td>59</td>\n",
       "      <td>Parda</td>\n",
       "      <td>Ignorado</td>\n",
       "      <td>ES</td>\n",
       "      <td>COVID-19</td>\n",
       "      <td>Óbito</td>\n",
       "    </tr>\n",
       "    <tr>\n",
       "      <th>18114</th>\n",
       "      <td>F</td>\n",
       "      <td>60</td>\n",
       "      <td>Branca</td>\n",
       "      <td>Superior</td>\n",
       "      <td>RS</td>\n",
       "      <td>SRAG não especificado</td>\n",
       "      <td>Cura</td>\n",
       "    </tr>\n",
       "    <tr>\n",
       "      <th>77477</th>\n",
       "      <td>M</td>\n",
       "      <td>61</td>\n",
       "      <td>Branca</td>\n",
       "      <td>Ignorado</td>\n",
       "      <td>SP</td>\n",
       "      <td>SRAG não especificado</td>\n",
       "      <td>Ignorado</td>\n",
       "    </tr>\n",
       "    <tr>\n",
       "      <th>51869</th>\n",
       "      <td>F</td>\n",
       "      <td>67</td>\n",
       "      <td>Parda</td>\n",
       "      <td>Ignorado</td>\n",
       "      <td>PB</td>\n",
       "      <td>COVID-19</td>\n",
       "      <td>Óbito</td>\n",
       "    </tr>\n",
       "    <tr>\n",
       "      <th>181221</th>\n",
       "      <td>F</td>\n",
       "      <td>67</td>\n",
       "      <td>Ignorado</td>\n",
       "      <td>Ignorado</td>\n",
       "      <td>SP</td>\n",
       "      <td>COVID-19</td>\n",
       "      <td>Ignorado</td>\n",
       "    </tr>\n",
       "    <tr>\n",
       "      <th>202337</th>\n",
       "      <td>M</td>\n",
       "      <td>68</td>\n",
       "      <td>Branca</td>\n",
       "      <td>Ignorado</td>\n",
       "      <td>SP</td>\n",
       "      <td>SRAG não especificado</td>\n",
       "      <td>Ignorado</td>\n",
       "    </tr>\n",
       "    <tr>\n",
       "      <th>349650</th>\n",
       "      <td>M</td>\n",
       "      <td>69</td>\n",
       "      <td>Parda</td>\n",
       "      <td>Fund2</td>\n",
       "      <td>BA</td>\n",
       "      <td>SRAG não especificado</td>\n",
       "      <td>Óbito</td>\n",
       "    </tr>\n",
       "    <tr>\n",
       "      <th>117972</th>\n",
       "      <td>F</td>\n",
       "      <td>71</td>\n",
       "      <td>Branca</td>\n",
       "      <td>Fund1</td>\n",
       "      <td>PI</td>\n",
       "      <td>COVID-19</td>\n",
       "      <td>Ignorado</td>\n",
       "    </tr>\n",
       "    <tr>\n",
       "      <th>154786</th>\n",
       "      <td>M</td>\n",
       "      <td>74</td>\n",
       "      <td>Branca</td>\n",
       "      <td>Ignorado</td>\n",
       "      <td>SP</td>\n",
       "      <td>COVID-19</td>\n",
       "      <td>Ignorado</td>\n",
       "    </tr>\n",
       "    <tr>\n",
       "      <th>58634</th>\n",
       "      <td>F</td>\n",
       "      <td>74</td>\n",
       "      <td>Ignorado</td>\n",
       "      <td>Ignorado</td>\n",
       "      <td>SP</td>\n",
       "      <td>SRAG não especificado</td>\n",
       "      <td>Ignorado</td>\n",
       "    </tr>\n",
       "    <tr>\n",
       "      <th>373434</th>\n",
       "      <td>M</td>\n",
       "      <td>75</td>\n",
       "      <td>Ignorado</td>\n",
       "      <td>Médio</td>\n",
       "      <td>TO</td>\n",
       "      <td>SRAG não especificado</td>\n",
       "      <td>Óbito</td>\n",
       "    </tr>\n",
       "    <tr>\n",
       "      <th>383961</th>\n",
       "      <td>F</td>\n",
       "      <td>76</td>\n",
       "      <td>Parda</td>\n",
       "      <td>Ignorado</td>\n",
       "      <td>RJ</td>\n",
       "      <td>SRAG não especificado</td>\n",
       "      <td>Ignorado</td>\n",
       "    </tr>\n",
       "    <tr>\n",
       "      <th>369257</th>\n",
       "      <td>F</td>\n",
       "      <td>77</td>\n",
       "      <td>Branca</td>\n",
       "      <td>Ignorado</td>\n",
       "      <td>PR</td>\n",
       "      <td>SRAG não especificado</td>\n",
       "      <td>Óbito</td>\n",
       "    </tr>\n",
       "    <tr>\n",
       "      <th>129631</th>\n",
       "      <td>M</td>\n",
       "      <td>78</td>\n",
       "      <td>Parda</td>\n",
       "      <td>Ignorado</td>\n",
       "      <td>PE</td>\n",
       "      <td>SRAG não especificado</td>\n",
       "      <td>Ignorado</td>\n",
       "    </tr>\n",
       "    <tr>\n",
       "      <th>391680</th>\n",
       "      <td>M</td>\n",
       "      <td>80</td>\n",
       "      <td>Parda</td>\n",
       "      <td>Fund1</td>\n",
       "      <td>GO</td>\n",
       "      <td>SRAG não especificado</td>\n",
       "      <td>Ignorado</td>\n",
       "    </tr>\n",
       "    <tr>\n",
       "      <th>386709</th>\n",
       "      <td>M</td>\n",
       "      <td>81</td>\n",
       "      <td>Preta</td>\n",
       "      <td>Ignorado</td>\n",
       "      <td>MG</td>\n",
       "      <td>SRAG não especificado</td>\n",
       "      <td>Ignorado</td>\n",
       "    </tr>\n",
       "    <tr>\n",
       "      <th>184051</th>\n",
       "      <td>F</td>\n",
       "      <td>82</td>\n",
       "      <td>Ignorado</td>\n",
       "      <td>Ignorado</td>\n",
       "      <td>PR</td>\n",
       "      <td>COVID-19</td>\n",
       "      <td>Óbito</td>\n",
       "    </tr>\n",
       "    <tr>\n",
       "      <th>37363</th>\n",
       "      <td>F</td>\n",
       "      <td>86</td>\n",
       "      <td>Branca</td>\n",
       "      <td>Ignorado</td>\n",
       "      <td>SP</td>\n",
       "      <td>COVID-19</td>\n",
       "      <td>Óbito</td>\n",
       "    </tr>\n",
       "    <tr>\n",
       "      <th>191925</th>\n",
       "      <td>M</td>\n",
       "      <td>86</td>\n",
       "      <td>Parda</td>\n",
       "      <td>Ignorado</td>\n",
       "      <td>PB</td>\n",
       "      <td>SRAG não especificado</td>\n",
       "      <td>Ignorado</td>\n",
       "    </tr>\n",
       "    <tr>\n",
       "      <th>136774</th>\n",
       "      <td>F</td>\n",
       "      <td>89</td>\n",
       "      <td>Ignorado</td>\n",
       "      <td>Ignorado</td>\n",
       "      <td>RJ</td>\n",
       "      <td>COVID-19</td>\n",
       "      <td>Óbito</td>\n",
       "    </tr>\n",
       "    <tr>\n",
       "      <th>170537</th>\n",
       "      <td>F</td>\n",
       "      <td>89</td>\n",
       "      <td>Parda</td>\n",
       "      <td>Fund1</td>\n",
       "      <td>AM</td>\n",
       "      <td>SRAG não especificado</td>\n",
       "      <td>Óbito</td>\n",
       "    </tr>\n",
       "    <tr>\n",
       "      <th>249887</th>\n",
       "      <td>F</td>\n",
       "      <td>90</td>\n",
       "      <td>Ignorado</td>\n",
       "      <td>Ignorado</td>\n",
       "      <td>SP</td>\n",
       "      <td>COVID-19</td>\n",
       "      <td>Óbito</td>\n",
       "    </tr>\n",
       "    <tr>\n",
       "      <th>22845</th>\n",
       "      <td>M</td>\n",
       "      <td>95</td>\n",
       "      <td>Branca</td>\n",
       "      <td>Ignorado</td>\n",
       "      <td>RJ</td>\n",
       "      <td>COVID-19</td>\n",
       "      <td>Óbito</td>\n",
       "    </tr>\n",
       "    <tr>\n",
       "      <th>119826</th>\n",
       "      <td>F</td>\n",
       "      <td>97</td>\n",
       "      <td>Parda</td>\n",
       "      <td>Sem</td>\n",
       "      <td>SP</td>\n",
       "      <td>SRAG não especificado</td>\n",
       "      <td>Ignorado</td>\n",
       "    </tr>\n",
       "  </tbody>\n",
       "</table>\n",
       "</div>"
      ],
      "text/plain": [
       "       CS_SEXO  NU_IDADE_N   CS_RACA     CS_ESCOL_N SG_UF  \\\n",
       "340360       M           2     Parda  Não se aplica    SP   \n",
       "9617         M          19     Parda          Fund2    PR   \n",
       "126751       M          23    Branca       Ignorado    PR   \n",
       "180642       F          33  Ignorado       Ignorado    RJ   \n",
       "307770       F          34     Parda          Fund1    AC   \n",
       "146825       F          38  Ignorado       Ignorado    SP   \n",
       "22213        M          38     Parda       Ignorado    SP   \n",
       "190096       M          38  Ignorado       Ignorado    BA   \n",
       "184537       F          40  Ignorado       Ignorado    MG   \n",
       "333641       M          42  Ignorado          Médio    SC   \n",
       "219667       F          45  Ignorado       Ignorado    GO   \n",
       "148334       F          46    Branca          Fund2    SP   \n",
       "82026        M          47  Ignorado       Ignorado    AM   \n",
       "25086        F          48  Ignorado       Ignorado    DF   \n",
       "53379        M          51  Ignorado          Fund1    SP   \n",
       "203869       F          51     Parda          Médio    RJ   \n",
       "190875       M          51  Ignorado       Ignorado    RJ   \n",
       "240845       F          52     Parda          Médio    PR   \n",
       "95974        M          52     Parda       Ignorado    MG   \n",
       "175175       M          53    Branca       Superior    ES   \n",
       "249074       F          53  Ignorado       Ignorado    SP   \n",
       "249695       M          54  Ignorado       Ignorado    CE   \n",
       "337054       M          54     Parda          Médio    PA   \n",
       "145807       F          56     Parda       Ignorado    MG   \n",
       "138629       M          56    Branca          Fund2    SP   \n",
       "251054       M          57  Ignorado       Ignorado    SE   \n",
       "234468       F          59     Parda       Ignorado    ES   \n",
       "18114        F          60    Branca       Superior    RS   \n",
       "77477        M          61    Branca       Ignorado    SP   \n",
       "51869        F          67     Parda       Ignorado    PB   \n",
       "181221       F          67  Ignorado       Ignorado    SP   \n",
       "202337       M          68    Branca       Ignorado    SP   \n",
       "349650       M          69     Parda          Fund2    BA   \n",
       "117972       F          71    Branca          Fund1    PI   \n",
       "154786       M          74    Branca       Ignorado    SP   \n",
       "58634        F          74  Ignorado       Ignorado    SP   \n",
       "373434       M          75  Ignorado          Médio    TO   \n",
       "383961       F          76     Parda       Ignorado    RJ   \n",
       "369257       F          77    Branca       Ignorado    PR   \n",
       "129631       M          78     Parda       Ignorado    PE   \n",
       "391680       M          80     Parda          Fund1    GO   \n",
       "386709       M          81     Preta       Ignorado    MG   \n",
       "184051       F          82  Ignorado       Ignorado    PR   \n",
       "37363        F          86    Branca       Ignorado    SP   \n",
       "191925       M          86     Parda       Ignorado    PB   \n",
       "136774       F          89  Ignorado       Ignorado    RJ   \n",
       "170537       F          89     Parda          Fund1    AM   \n",
       "249887       F          90  Ignorado       Ignorado    SP   \n",
       "22845        M          95    Branca       Ignorado    RJ   \n",
       "119826       F          97     Parda            Sem    SP   \n",
       "\n",
       "                   CLASSI_FIN  EVOLUCAO  \n",
       "340360  SRAG não especificado      Cura  \n",
       "9617    SRAG não especificado      Cura  \n",
       "126751  SRAG não especificado      Cura  \n",
       "180642  SRAG não especificado  Ignorado  \n",
       "307770               COVID-19  Ignorado  \n",
       "146825               COVID-19      Cura  \n",
       "22213                COVID-19      Cura  \n",
       "190096  SRAG não especificado  Ignorado  \n",
       "184537  SRAG não especificado  Ignorado  \n",
       "333641               COVID-19      Cura  \n",
       "219667  SRAG não especificado      Cura  \n",
       "148334  SRAG não especificado  Ignorado  \n",
       "82026   SRAG não especificado  Ignorado  \n",
       "25086   SRAG não especificado      Cura  \n",
       "53379                COVID-19  Ignorado  \n",
       "203869  SRAG não especificado     Óbito  \n",
       "190875               COVID-19  Ignorado  \n",
       "240845               COVID-19      Cura  \n",
       "95974   SRAG não especificado      Cura  \n",
       "175175               COVID-19      Cura  \n",
       "249074               COVID-19  Ignorado  \n",
       "249695               COVID-19     Óbito  \n",
       "337054  SRAG não especificado  Ignorado  \n",
       "145807  SRAG não especificado      Cura  \n",
       "138629  SRAG não especificado      Cura  \n",
       "251054               COVID-19  Ignorado  \n",
       "234468               COVID-19     Óbito  \n",
       "18114   SRAG não especificado      Cura  \n",
       "77477   SRAG não especificado  Ignorado  \n",
       "51869                COVID-19     Óbito  \n",
       "181221               COVID-19  Ignorado  \n",
       "202337  SRAG não especificado  Ignorado  \n",
       "349650  SRAG não especificado     Óbito  \n",
       "117972               COVID-19  Ignorado  \n",
       "154786               COVID-19  Ignorado  \n",
       "58634   SRAG não especificado  Ignorado  \n",
       "373434  SRAG não especificado     Óbito  \n",
       "383961  SRAG não especificado  Ignorado  \n",
       "369257  SRAG não especificado     Óbito  \n",
       "129631  SRAG não especificado  Ignorado  \n",
       "391680  SRAG não especificado  Ignorado  \n",
       "386709  SRAG não especificado  Ignorado  \n",
       "184051               COVID-19     Óbito  \n",
       "37363                COVID-19     Óbito  \n",
       "191925  SRAG não especificado  Ignorado  \n",
       "136774               COVID-19     Óbito  \n",
       "170537  SRAG não especificado     Óbito  \n",
       "249887               COVID-19     Óbito  \n",
       "22845                COVID-19     Óbito  \n",
       "119826  SRAG não especificado  Ignorado  "
      ]
     },
     "execution_count": 16,
     "metadata": {},
     "output_type": "execute_result"
    }
   ],
   "source": [
    "df.sample(50).sort_values('NU_IDADE_N')"
   ]
  },
  {
   "cell_type": "code",
   "execution_count": 17,
   "metadata": {},
   "outputs": [
    {
     "data": {
      "text/plain": [
       "Text(0.5, 1.0, 'Cinco estados com mais casos de SRAG')"
      ]
     },
     "execution_count": 17,
     "metadata": {},
     "output_type": "execute_result"
    },
    {
     "data": {
      "image/png": "[encoded data removed]",
      "text/plain": [
       "<Figure size 432x288 with 1 Axes>"
      ]
     },
     "metadata": {
      "needs_background": "light"
     },
     "output_type": "display_data"
    }
   ],
   "source": [
    "df.groupby('SG_UF').size().sort_values().tail(5).plot(kind='barh').set_title('Cinco estados com mais casos de SRAG', fontsize=22)"
   ]
  },
  {
   "cell_type": "code",
   "execution_count": 19,
   "metadata": {},
   "outputs": [
    {
     "data": {
      "text/plain": [
       "<matplotlib.axes._subplots.AxesSubplot at 0xcc4db10>"
      ]
     },
     "execution_count": 19,
     "metadata": {},
     "output_type": "execute_result"
    },
    {
     "data": {
      "image/png": "[encoded data removed]",
      "text/plain": [
       "<Figure size 432x288 with 1 Axes>"
      ]
     },
     "metadata": {
      "needs_background": "light"
     },
     "output_type": "display_data"
    }
   ],
   "source": [
    "df.query('CS_RACA != \"Ignorado\"').groupby('CS_RACA').size().sort_values().plot(kind='bar')"
   ]
  },
  {
   "cell_type": "code",
   "execution_count": 20,
   "metadata": {},
   "outputs": [
    {
     "data": {
      "text/plain": [
       "CS_RACA\n",
       "Ignorado    125776\n",
       "Branca      123786\n",
       "Parda       121316\n",
       "Preta        18543\n",
       "Amarela       3495\n",
       "Indígena      1063\n",
       "dtype: int64"
      ]
     },
     "execution_count": 20,
     "metadata": {},
     "output_type": "execute_result"
    }
   ],
   "source": [
    "df.groupby('CS_RACA').size().sort_values(ascending=False)"
   ]
  },
  {
   "cell_type": "code",
   "execution_count": 21,
   "metadata": {},
   "outputs": [
    {
     "data": {
      "text/plain": [
       "CS_ESCOL_N\n",
       "Ignorado         250267\n",
       "Médio             40841\n",
       "Fund1             35329\n",
       "Fund2             23279\n",
       "Superior          20004\n",
       "Não se aplica     13430\n",
       "Sem               10829\n",
       "dtype: int64"
      ]
     },
     "execution_count": 21,
     "metadata": {},
     "output_type": "execute_result"
    }
   ],
   "source": [
    "df.groupby('CS_ESCOL_N').size().sort_values(ascending=False)"
   ]
  },
  {
   "cell_type": "code",
   "execution_count": 22,
   "metadata": {},
   "outputs": [
    {
     "data": {
      "text/plain": [
       "Text(0.5, 1.0, 'Óbito por SRAG por raça')"
      ]
     },
     "execution_count": 22,
     "metadata": {},
     "output_type": "execute_result"
    },
    {
     "data": {
      "image/png": "[encoded data removed]",
      "text/plain": [
       "<Figure size 432x288 with 1 Axes>"
      ]
     },
     "metadata": {
      "needs_background": "light"
     },
     "output_type": "display_data"
    }
   ],
   "source": [
    "df.query('EVOLUCAO == \"Óbito\" and CS_RACA != \"Ignorado\"').groupby('CS_RACA').size().plot(kind='bar').set_title('Óbito por SRAG por raça', fontsize=22)"
   ]
  },
  {
   "cell_type": "code",
   "execution_count": 23,
   "metadata": {},
   "outputs": [
    {
     "data": {
      "text/plain": [
       "Text(0.5, 1.0, 'Índice de cura de SRAG por raça')"
      ]
     },
     "execution_count": 23,
     "metadata": {},
     "output_type": "execute_result"
    },
    {
     "data": {
      "image/png": "[encoded data removed]",
      "text/plain": [
       "<Figure size 432x288 with 1 Axes>"
      ]
     },
     "metadata": {
      "needs_background": "light"
     },
     "output_type": "display_data"
    }
   ],
   "source": [
    "df.query('EVOLUCAO == \"Cura\" and CS_RACA != \"Ignorado\"').groupby('CS_RACA').size().plot(kind='bar').set_title('Índice de cura de SRAG por raça', fontsize=22)"
   ]
  },
  {
   "cell_type": "code",
   "execution_count": 24,
   "metadata": {},
   "outputs": [
    {
     "data": {
      "text/plain": [
       "Text(0.5, 1.0, 'Óbito por SRAG por nível de escolaridade')"
      ]
     },
     "execution_count": 24,
     "metadata": {},
     "output_type": "execute_result"
    },
    {
     "data": {
      "image/png": "[encoded data removed]",
      "text/plain": [
       "<Figure size 432x288 with 1 Axes>"
      ]
     },
     "metadata": {
      "needs_background": "light"
     },
     "output_type": "display_data"
    }
   ],
   "source": [
    "df.query('EVOLUCAO == \"Óbito\" and CS_ESCOL_N != \"Ignorado\"').groupby('CS_ESCOL_N').size().plot(kind='bar').set_title('Óbito por SRAG por nível de escolaridade', fontsize = 22)"
   ]
  },
  {
   "cell_type": "code",
   "execution_count": 25,
   "metadata": {},
   "outputs": [
    {
     "data": {
      "text/plain": [
       "Text(0.5, 1.0, 'Índice de cura de SRAG por nível de escolaridade')"
      ]
     },
     "execution_count": 25,
     "metadata": {},
     "output_type": "execute_result"
    },
    {
     "data": {
      "image/png": "[encoded data removed]",
      "text/plain": [
       "<Figure size 432x288 with 1 Axes>"
      ]
     },
     "metadata": {
      "needs_background": "light"
     },
     "output_type": "display_data"
    }
   ],
   "source": [
    "df.query('EVOLUCAO == \"Cura\" and CS_ESCOL_N != \"Ignorado\"').groupby('CS_ESCOL_N').size().plot(kind='bar').set_title('Índice de cura de SRAG por nível de escolaridade', fontsize = 22)"
   ]
  },
  {
   "cell_type": "code",
   "execution_count": 26,
   "metadata": {},
   "outputs": [
    {
     "data": {
      "text/plain": [
       "EVOLUCAO\n",
       "Cura        157564\n",
       "Ignorado    140856\n",
       "Óbito        95559\n",
       "dtype: int64"
      ]
     },
     "execution_count": 26,
     "metadata": {},
     "output_type": "execute_result"
    }
   ],
   "source": [
    "df.groupby('EVOLUCAO').size().sort_values(ascending=False)"
   ]
  },
  {
   "cell_type": "code",
   "execution_count": 27,
   "metadata": {},
   "outputs": [
    {
     "data": {
      "text/plain": [
       "Text(0.5, 1.0, 'Óbito por COVID-19 por idade')"
      ]
     },
     "execution_count": 27,
     "metadata": {},
     "output_type": "execute_result"
    },
    {
     "data": {
      "image/png": "[encoded data removed]",
      "text/plain": [
       "<Figure size 432x288 with 1 Axes>"
      ]
     },
     "metadata": {
      "needs_background": "light"
     },
     "output_type": "display_data"
    }
   ],
   "source": [
    "df.query('CLASSI_FIN == \"COVID-19\" and EVOLUCAO == \"Óbito\"').groupby('NU_IDADE_N').size().plot(kind='line').set_title('Óbito por COVID-19 por idade', fontsize=22)"
   ]
  },
  {
   "cell_type": "code",
   "execution_count": 28,
   "metadata": {},
   "outputs": [
    {
     "data": {
      "text/plain": [
       "Text(0.5, 1.0, 'Óbitos por SRAG por UF')"
      ]
     },
     "execution_count": 28,
     "metadata": {},
     "output_type": "execute_result"
    },
    {
     "data": {
      "image/png": "[encoded data removed]",
      "text/plain": [
       "<Figure size 432x288 with 1 Axes>"
      ]
     },
     "metadata": {
      "needs_background": "light"
     },
     "output_type": "display_data"
    }
   ],
   "source": [
    "df.query('EVOLUCAO == \"Óbito\"').groupby('SG_UF').size().plot(kind='bar').set_title('Óbitos por SRAG por UF', fontsize=22)"
   ]
  },
  {
   "cell_type": "code",
   "execution_count": 29,
   "metadata": {},
   "outputs": [
    {
     "data": {
      "text/plain": [
       "Text(0.5, 1.0, 'Óbitos por COVID por sexo')"
      ]
     },
     "execution_count": 29,
     "metadata": {},
     "output_type": "execute_result"
    },
    {
     "data": {
      "image/png": "[encoded data removed]",
      "text/plain": [
       "<Figure size 432x288 with 1 Axes>"
      ]
     },
     "metadata": {
      "needs_background": "light"
     },
     "output_type": "display_data"
    }
   ],
   "source": [
    "df.query('EVOLUCAO == \"Óbito\" and CLASSI_FIN == \"COVID-19\"').groupby('CS_SEXO').size().plot(kind='bar').set_title('Óbitos por COVID por sexo', fontsize=22)"
   ]
  },
  {
   "cell_type": "code",
   "execution_count": null,
   "metadata": {},
   "outputs": [],
   "source": []
  }
 ],
 "metadata": {
  "kernelspec": {
   "display_name": "Python 3",
   "language": "python",
   "name": "python3"
  },
  "language_info": {
   "codemirror_mode": {
    "name": "ipython",
    "version": 3
   },
   "file_extension": ".py",
   "mimetype": "text/x-python",
   "name": "python",
   "nbconvert_exporter": "python",
   "pygments_lexer": "ipython3",
   "version": "3.7.3"
  }
 },
 "nbformat": 4,
 "nbformat_minor": 4
}
