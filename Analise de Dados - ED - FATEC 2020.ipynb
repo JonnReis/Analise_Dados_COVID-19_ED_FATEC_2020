{
 "cells": [
  {
   "cell_type": "code",
   "execution_count": 1,
   "metadata": {},
   "outputs": [],
   "source": [
    "import pandas as pd\n",
    "low_memory=False\n",
    "import matplotlib.pyplot as plt\n",
    "%matplotlib inline\n",
    "pd.options.display.max_columns = 80\n",
    "pd.options.display.max_rows = 90"
   ]
  },
  {
   "cell_type": "code",
   "execution_count": 2,
   "metadata": {},
   "outputs": [
    {
     "name": "stderr",
     "output_type": "stream",
     "text": [
      "c:\\users\\black\\appdata\\local\\programs\\python\\python37-32\\lib\\site-packages\\IPython\\core\\interactiveshell.py:3063: DtypeWarning: Columns (18,59,61,62,63,103,105,117,119,126,128,129,130,132) have mixed types.Specify dtype option on import or set low_memory=False.\n",
      "  interactivity=interactivity, compiler=compiler, result=result)\n"
     ]
    }
   ],
   "source": [
    "filename = r'E:\\Fatec\\ADS\\SEMESTRE 3\\ESTRUTURAS DE DADOS\\Analise de Dados\\dados_saude.csv'\n",
    "df = pd.read_csv(filename, delimiter=';',\n",
    "                 encoding = 'ISO-8859-1',\n",
    "                 error_bad_lines = False)"
   ]
  },
  {
   "cell_type": "code",
   "execution_count": 3,
   "metadata": {},
   "outputs": [
    {
     "data": {
      "text/plain": [
       "(393979, 134)"
      ]
     },
     "execution_count": 3,
     "metadata": {},
     "output_type": "execute_result"
    }
   ],
   "source": [
    "df.shape"
   ]
  },
  {
   "cell_type": "code",
   "execution_count": 4,
   "metadata": {},
   "outputs": [
    {
     "name": "stdout",
     "output_type": "stream",
     "text": [
      "0 DT_NOTIFIC\n",
      "7 ID_MUNICIP\n",
      "11 CS_SEXO\n",
      "13 NU_IDADE_N\n",
      "22 SG_UF\n",
      "118 CLASSI_FIN\n",
      "121 EVOLUCAO\n"
     ]
    }
   ],
   "source": [
    "#Colunas na tabela a ser utilizada\n",
    "for k in (0,7,11, 13, 22, 118, 121):\n",
    "    print (k, df.columns[k])"
   ]
  },
  {
   "cell_type": "code",
   "execution_count": 5,
   "metadata": {},
   "outputs": [],
   "source": [
    "#Criação da tabela que vamos utilizar\n",
    "df = df[['DT_NOTIFIC','ID_MUNICIP', 'CS_SEXO', 'NU_IDADE_N', 'SG_UF', 'CLASSI_FIN', 'EVOLUCAO']]"
   ]
  },
  {
   "cell_type": "code",
   "execution_count": 6,
   "metadata": {},
   "outputs": [],
   "source": [
    "#Atribuição de valores \n",
    "troca_classificação = {1:'SRAG por influenza',\n",
    "                       2: 'SRAG por outro vírus respiratório',\n",
    "                       3: 'SRAG por outro agente Etiológico',\n",
    "                       4: 'SRAG não especificado',\n",
    "                       5: 'COVID-19'}\n",
    "\n",
    "troca_evolução = {1:'Cura', 2:'Óbito', 9:'Ignorado'}"
   ]
  },
  {
   "cell_type": "code",
   "execution_count": 7,
   "metadata": {},
   "outputs": [],
   "source": [
    "#Alocação dos valores dos dicionários dentro das colunas\n",
    "df.loc[(df.CLASSI_FIN.isnull()), 'CLASSI_FIN'] = 4\n",
    "df['CLASSI_FIN'] = df['CLASSI_FIN'].apply(lambda x: troca_classificação[x])\n",
    "\n",
    "df.loc[(df.EVOLUCAO.isnull()), 'EVOLUCAO'] = 9\n",
    "df['EVOLUCAO'] = df['EVOLUCAO'].apply(lambda x: troca_evolução[x])"
   ]
  },
  {
   "cell_type": "code",
   "execution_count": 67,
   "metadata": {},
   "outputs": [
    {
     "data": {
      "text/html": [
       "<div>\n",
       "<style scoped>\n",
       "    .dataframe tbody tr th:only-of-type {\n",
       "        vertical-align: middle;\n",
       "    }\n",
       "\n",
       "    .dataframe tbody tr th {\n",
       "        vertical-align: top;\n",
       "    }\n",
       "\n",
       "    .dataframe thead th {\n",
       "        text-align: right;\n",
       "    }\n",
       "</style>\n",
       "<table border=\"1\" class=\"dataframe\">\n",
       "  <thead>\n",
       "    <tr style=\"text-align: right;\">\n",
       "      <th></th>\n",
       "      <th>DT_NOTIFIC</th>\n",
       "      <th>ID_MUNICIP</th>\n",
       "      <th>CS_SEXO</th>\n",
       "      <th>NU_IDADE_N</th>\n",
       "      <th>SG_UF</th>\n",
       "      <th>CLASSI_FIN</th>\n",
       "      <th>EVOLUCAO</th>\n",
       "    </tr>\n",
       "  </thead>\n",
       "  <tbody>\n",
       "    <tr>\n",
       "      <th>270110</th>\n",
       "      <td>14/04/2020</td>\n",
       "      <td>BELEM</td>\n",
       "      <td>M</td>\n",
       "      <td>36</td>\n",
       "      <td>PA</td>\n",
       "      <td>COVID-19</td>\n",
       "      <td>Cura</td>\n",
       "    </tr>\n",
       "    <tr>\n",
       "      <th>206965</th>\n",
       "      <td>26/05/2020</td>\n",
       "      <td>BELO HORIZONTE</td>\n",
       "      <td>F</td>\n",
       "      <td>82</td>\n",
       "      <td>MG</td>\n",
       "      <td>SRAG não especificado</td>\n",
       "      <td>Ignorado</td>\n",
       "    </tr>\n",
       "    <tr>\n",
       "      <th>269161</th>\n",
       "      <td>13/06/2020</td>\n",
       "      <td>CARAGUATATUBA</td>\n",
       "      <td>F</td>\n",
       "      <td>38</td>\n",
       "      <td>SP</td>\n",
       "      <td>SRAG não especificado</td>\n",
       "      <td>Ignorado</td>\n",
       "    </tr>\n",
       "    <tr>\n",
       "      <th>60326</th>\n",
       "      <td>17/04/2020</td>\n",
       "      <td>CUIABA</td>\n",
       "      <td>M</td>\n",
       "      <td>29</td>\n",
       "      <td>MT</td>\n",
       "      <td>COVID-19</td>\n",
       "      <td>Cura</td>\n",
       "    </tr>\n",
       "    <tr>\n",
       "      <th>1089</th>\n",
       "      <td>24/01/2020</td>\n",
       "      <td>CURITIBA</td>\n",
       "      <td>F</td>\n",
       "      <td>41</td>\n",
       "      <td>PR</td>\n",
       "      <td>SRAG não especificado</td>\n",
       "      <td>Cura</td>\n",
       "    </tr>\n",
       "    <tr>\n",
       "      <th>107365</th>\n",
       "      <td>29/03/2020</td>\n",
       "      <td>ELISIO MEDRADO</td>\n",
       "      <td>F</td>\n",
       "      <td>90</td>\n",
       "      <td>BA</td>\n",
       "      <td>SRAG não especificado</td>\n",
       "      <td>Ignorado</td>\n",
       "    </tr>\n",
       "    <tr>\n",
       "      <th>175059</th>\n",
       "      <td>24/05/2020</td>\n",
       "      <td>FORTALEZA</td>\n",
       "      <td>M</td>\n",
       "      <td>79</td>\n",
       "      <td>CE</td>\n",
       "      <td>COVID-19</td>\n",
       "      <td>Óbito</td>\n",
       "    </tr>\n",
       "    <tr>\n",
       "      <th>223779</th>\n",
       "      <td>19/06/2020</td>\n",
       "      <td>MANAUS</td>\n",
       "      <td>F</td>\n",
       "      <td>39</td>\n",
       "      <td>AM</td>\n",
       "      <td>COVID-19</td>\n",
       "      <td>Cura</td>\n",
       "    </tr>\n",
       "    <tr>\n",
       "      <th>112099</th>\n",
       "      <td>07/05/2020</td>\n",
       "      <td>PASSO FUNDO</td>\n",
       "      <td>F</td>\n",
       "      <td>24</td>\n",
       "      <td>RS</td>\n",
       "      <td>SRAG não especificado</td>\n",
       "      <td>Cura</td>\n",
       "    </tr>\n",
       "    <tr>\n",
       "      <th>358300</th>\n",
       "      <td>30/06/2020</td>\n",
       "      <td>PORTO VELHO</td>\n",
       "      <td>M</td>\n",
       "      <td>41</td>\n",
       "      <td>RO</td>\n",
       "      <td>COVID-19</td>\n",
       "      <td>Ignorado</td>\n",
       "    </tr>\n",
       "    <tr>\n",
       "      <th>187740</th>\n",
       "      <td>26/05/2020</td>\n",
       "      <td>QUIXERAMOBIM</td>\n",
       "      <td>M</td>\n",
       "      <td>87</td>\n",
       "      <td>CE</td>\n",
       "      <td>COVID-19</td>\n",
       "      <td>Óbito</td>\n",
       "    </tr>\n",
       "    <tr>\n",
       "      <th>272076</th>\n",
       "      <td>01/06/2020</td>\n",
       "      <td>RECIFE</td>\n",
       "      <td>F</td>\n",
       "      <td>69</td>\n",
       "      <td>PE</td>\n",
       "      <td>SRAG não especificado</td>\n",
       "      <td>Ignorado</td>\n",
       "    </tr>\n",
       "    <tr>\n",
       "      <th>148539</th>\n",
       "      <td>18/05/2020</td>\n",
       "      <td>RIO DE JANEIRO</td>\n",
       "      <td>M</td>\n",
       "      <td>86</td>\n",
       "      <td>RJ</td>\n",
       "      <td>SRAG não especificado</td>\n",
       "      <td>Óbito</td>\n",
       "    </tr>\n",
       "    <tr>\n",
       "      <th>190252</th>\n",
       "      <td>23/05/2020</td>\n",
       "      <td>SALVADOR</td>\n",
       "      <td>F</td>\n",
       "      <td>62</td>\n",
       "      <td>BA</td>\n",
       "      <td>SRAG não especificado</td>\n",
       "      <td>Ignorado</td>\n",
       "    </tr>\n",
       "    <tr>\n",
       "      <th>49448</th>\n",
       "      <td>15/04/2020</td>\n",
       "      <td>SANTA FE DO SUL</td>\n",
       "      <td>F</td>\n",
       "      <td>65</td>\n",
       "      <td>SP</td>\n",
       "      <td>SRAG não especificado</td>\n",
       "      <td>Ignorado</td>\n",
       "    </tr>\n",
       "    <tr>\n",
       "      <th>80344</th>\n",
       "      <td>12/04/2020</td>\n",
       "      <td>SAO PAULO</td>\n",
       "      <td>F</td>\n",
       "      <td>57</td>\n",
       "      <td>SP</td>\n",
       "      <td>SRAG não especificado</td>\n",
       "      <td>Cura</td>\n",
       "    </tr>\n",
       "    <tr>\n",
       "      <th>214001</th>\n",
       "      <td>31/05/2020</td>\n",
       "      <td>SAO PAULO</td>\n",
       "      <td>F</td>\n",
       "      <td>35</td>\n",
       "      <td>SP</td>\n",
       "      <td>COVID-19</td>\n",
       "      <td>Cura</td>\n",
       "    </tr>\n",
       "    <tr>\n",
       "      <th>63971</th>\n",
       "      <td>18/04/2020</td>\n",
       "      <td>SAO PAULO</td>\n",
       "      <td>M</td>\n",
       "      <td>54</td>\n",
       "      <td>SP</td>\n",
       "      <td>COVID-19</td>\n",
       "      <td>Cura</td>\n",
       "    </tr>\n",
       "    <tr>\n",
       "      <th>173354</th>\n",
       "      <td>23/05/2020</td>\n",
       "      <td>SOBRAL</td>\n",
       "      <td>F</td>\n",
       "      <td>28</td>\n",
       "      <td>CE</td>\n",
       "      <td>SRAG não especificado</td>\n",
       "      <td>Ignorado</td>\n",
       "    </tr>\n",
       "    <tr>\n",
       "      <th>252827</th>\n",
       "      <td>09/06/2020</td>\n",
       "      <td>UBERLANDIA</td>\n",
       "      <td>M</td>\n",
       "      <td>6</td>\n",
       "      <td>MG</td>\n",
       "      <td>SRAG não especificado</td>\n",
       "      <td>Cura</td>\n",
       "    </tr>\n",
       "  </tbody>\n",
       "</table>\n",
       "</div>"
      ],
      "text/plain": [
       "        DT_NOTIFIC       ID_MUNICIP CS_SEXO  NU_IDADE_N SG_UF  \\\n",
       "270110  14/04/2020            BELEM       M          36    PA   \n",
       "206965  26/05/2020   BELO HORIZONTE       F          82    MG   \n",
       "269161  13/06/2020    CARAGUATATUBA       F          38    SP   \n",
       "60326   17/04/2020           CUIABA       M          29    MT   \n",
       "1089    24/01/2020         CURITIBA       F          41    PR   \n",
       "107365  29/03/2020   ELISIO MEDRADO       F          90    BA   \n",
       "175059  24/05/2020        FORTALEZA       M          79    CE   \n",
       "223779  19/06/2020           MANAUS       F          39    AM   \n",
       "112099  07/05/2020      PASSO FUNDO       F          24    RS   \n",
       "358300  30/06/2020      PORTO VELHO       M          41    RO   \n",
       "187740  26/05/2020     QUIXERAMOBIM       M          87    CE   \n",
       "272076  01/06/2020           RECIFE       F          69    PE   \n",
       "148539  18/05/2020   RIO DE JANEIRO       M          86    RJ   \n",
       "190252  23/05/2020         SALVADOR       F          62    BA   \n",
       "49448   15/04/2020  SANTA FE DO SUL       F          65    SP   \n",
       "80344   12/04/2020        SAO PAULO       F          57    SP   \n",
       "214001  31/05/2020        SAO PAULO       F          35    SP   \n",
       "63971   18/04/2020        SAO PAULO       M          54    SP   \n",
       "173354  23/05/2020           SOBRAL       F          28    CE   \n",
       "252827  09/06/2020       UBERLANDIA       M           6    MG   \n",
       "\n",
       "                   CLASSI_FIN  EVOLUCAO  \n",
       "270110               COVID-19      Cura  \n",
       "206965  SRAG não especificado  Ignorado  \n",
       "269161  SRAG não especificado  Ignorado  \n",
       "60326                COVID-19      Cura  \n",
       "1089    SRAG não especificado      Cura  \n",
       "107365  SRAG não especificado  Ignorado  \n",
       "175059               COVID-19     Óbito  \n",
       "223779               COVID-19      Cura  \n",
       "112099  SRAG não especificado      Cura  \n",
       "358300               COVID-19  Ignorado  \n",
       "187740               COVID-19     Óbito  \n",
       "272076  SRAG não especificado  Ignorado  \n",
       "148539  SRAG não especificado     Óbito  \n",
       "190252  SRAG não especificado  Ignorado  \n",
       "49448   SRAG não especificado  Ignorado  \n",
       "80344   SRAG não especificado      Cura  \n",
       "214001               COVID-19      Cura  \n",
       "63971                COVID-19      Cura  \n",
       "173354  SRAG não especificado  Ignorado  \n",
       "252827  SRAG não especificado      Cura  "
      ]
     },
     "execution_count": 67,
     "metadata": {},
     "output_type": "execute_result"
    }
   ],
   "source": [
    "#amostra da tabela (20 ocorrências)\n",
    "df.sample(20).sort_values('ID_MUNICIP')"
   ]
  },
  {
   "cell_type": "code",
   "execution_count": 28,
   "metadata": {},
   "outputs": [
    {
     "data": {
      "text/plain": [
       "ID_MUNICIP\n",
       "SAO PAULO          35884\n",
       "RIO DE JANEIRO     16647\n",
       "FORTALEZA           8663\n",
       "RECIFE              7447\n",
       "MANAUS              4730\n",
       "                   ...  \n",
       "MUCUM                  1\n",
       "SIMAO DIAS             1\n",
       "CHOPINZINHO            1\n",
       "MORRO DA FUMACA        1\n",
       "LAGOA GRANDE           1\n",
       "Length: 1792, dtype: int64"
      ]
     },
     "execution_count": 28,
     "metadata": {},
     "output_type": "execute_result"
    }
   ],
   "source": [
    "#Quantidade de ocorrência de COVID-19 por municípios\n",
    "df.query('CLASSI_FIN == \"COVID-19\"').groupby('ID_MUNICIP').size().sort_values(ascending=False)"
   ]
  },
  {
   "cell_type": "code",
   "execution_count": 9,
   "metadata": {},
   "outputs": [
    {
     "data": {
      "text/plain": [
       "Text(0.5, 1.0, 'Dez cidades com mais casos de COVID-19')"
      ]
     },
     "execution_count": 9,
     "metadata": {},
     "output_type": "execute_result"
    },
    {
     "data": {
      "image/png": "[encoded data removed]",
      "text/plain": [
       "<Figure size 432x288 with 1 Axes>"
      ]
     },
     "metadata": {
      "needs_background": "light"
     },
     "output_type": "display_data"
    }
   ],
   "source": [
    "#Gráfico das 10 cidades com maior ocorrência de COVID-19\n",
    "df.query('CLASSI_FIN == \"COVID-19\"').groupby('ID_MUNICIP').size().sort_values().tail(10).plot(kind='bar', color='red').set_title('Dez cidades com mais casos de COVID-19', fontsize=22)"
   ]
  },
  {
   "cell_type": "code",
   "execution_count": 21,
   "metadata": {},
   "outputs": [
    {
     "data": {
      "text/plain": [
       "SG_UF\n",
       "SP    65122\n",
       "RJ    24965\n",
       "CE    12464\n",
       "PA    10316\n",
       "PE    10093\n",
       "AM     7394\n",
       "MT     7188\n",
       "BA     5778\n",
       "MG     5475\n",
       "RS     4324\n",
       "PR     3566\n",
       "DF     3136\n",
       "MA     2829\n",
       "PI     2522\n",
       "PB     2448\n",
       "AL     2197\n",
       "GO     2164\n",
       "RN     2113\n",
       "ES     1998\n",
       "SC     1866\n",
       "SE     1371\n",
       "MS      858\n",
       "RO      760\n",
       "TO      669\n",
       "RR      358\n",
       "AC      357\n",
       "AP      349\n",
       "dtype: int64"
      ]
     },
     "execution_count": 21,
     "metadata": {},
     "output_type": "execute_result"
    }
   ],
   "source": [
    "#Lista com o total de casos de COVID-19 por estado\n",
    "df.query('CLASSI_FIN == \"COVID-19\"').groupby('SG_UF').size().sort_values(ascending=False)"
   ]
  },
  {
   "cell_type": "code",
   "execution_count": 38,
   "metadata": {},
   "outputs": [
    {
     "data": {
      "text/plain": [
       "Text(0.5, 1.0, 'Dez estados com mais casos de COVID-19')"
      ]
     },
     "execution_count": 38,
     "metadata": {},
     "output_type": "execute_result"
    },
    {
     "data": {
      "image/png": "[encoded data removed]",
      "text/plain": [
       "<Figure size 432x288 with 1 Axes>"
      ]
     },
     "metadata": {
      "needs_background": "light"
     },
     "output_type": "display_data"
    }
   ],
   "source": [
    "#Grafico com os 10 estados com maior casos de COVID-19\n",
    "df.query('CLASSI_FIN == \"COVID-19\"').groupby('SG_UF').size().sort_values().tail(10).plot(kind='bar').set_title('Dez estados com mais casos de COVID-19', fontsize=22)"
   ]
  },
  {
   "cell_type": "code",
   "execution_count": 39,
   "metadata": {},
   "outputs": [
    {
     "data": {
      "text/plain": [
       "Text(0.5, 1.0, 'Óbito por COVID-19 por Estado')"
      ]
     },
     "execution_count": 39,
     "metadata": {},
     "output_type": "execute_result"
    },
    {
     "data": {
      "image/png": "[encoded data removed]",
      "text/plain": [
       "<Figure size 432x288 with 1 Axes>"
      ]
     },
     "metadata": {
      "needs_background": "light"
     },
     "output_type": "display_data"
    }
   ],
   "source": [
    "#Gráfico com a Quantidade de òbitos por COVID-19 por Estados\n",
    "df.query('EVOLUCAO == \"Óbito\" and CLASSI_FIN == \"COVID-19\"').groupby('SG_UF').size().plot(kind='line').set_title('Óbito por COVID-19 por Estado', fontsize = 22)"
   ]
  },
  {
   "cell_type": "code",
   "execution_count": 36,
   "metadata": {},
   "outputs": [
    {
     "data": {
      "text/plain": [
       "EVOLUCAO\n",
       "Cura        77747\n",
       "Óbito       61830\n",
       "Ignorado    43125\n",
       "dtype: int64"
      ]
     },
     "execution_count": 36,
     "metadata": {},
     "output_type": "execute_result"
    }
   ],
   "source": [
    "#Quantidade de casos de COVID-19\n",
    "df.query('CLASSI_FIN == \"COVID-19\"').groupby('EVOLUCAO').size().sort_values(ascending=False)"
   ]
  },
  {
   "cell_type": "code",
   "execution_count": null,
   "metadata": {},
   "outputs": [],
   "source": []
  }
 ],
 "metadata": {
  "kernelspec": {
   "display_name": "Python 3",
   "language": "python",
   "name": "python3"
  },
  "language_info": {
   "codemirror_mode": {
    "name": "ipython",
    "version": 3
   },
   "file_extension": ".py",
   "mimetype": "text/x-python",
   "name": "python",
   "nbconvert_exporter": "python",
   "pygments_lexer": "ipython3",
   "version": "3.7.3"
  }
 },
 "nbformat": 4,
 "nbformat_minor": 4
}
